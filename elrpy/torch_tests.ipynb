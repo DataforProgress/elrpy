{
 "cells": [
  {
   "cell_type": "code",
   "execution_count": 1,
   "metadata": {},
   "outputs": [],
   "source": [
    "import torch"
   ]
  },
  {
   "cell_type": "code",
   "execution_count": 4,
   "metadata": {},
   "outputs": [],
   "source": [
    "def lyapunov_binary_loss(p, Y, N, weights=None, eps=1e-6):\n",
    "    \"\"\"Lyapunov Central Limit loss for binary outcomes.\n",
    "    \n",
    "    Args:\n",
    "        p (np.ndarray): Array of probabilities of shape (n, k).\n",
    "        Y (int): Number of successes.\n",
    "        N (int): Size of group.\n",
    "    \n",
    "    Returns:\n",
    "        float: a normal approximation to the combinatorial log-likelihood.\n",
    "    \"\"\"\n",
    "    # N = p.shape[0]\n",
    "    # max_p = N / (N + 1)\n",
    "    # p = np.clip(p, 1 - max_p, max_p)\n",
    "    phi2 = torch.clamp(torch.sum(p * (1 - p), axis=0), min=eps)\n",
    "    mu = torch.sum(p, axis=0)\n",
    "    logp = 1/2 * torch.log(phi2) - (1 / phi2) * (Y - mu)**2\n",
    "    if weights is not None:\n",
    "        logp = weights * logp\n",
    "    return -logp"
   ]
  },
  {
   "cell_type": "code",
   "execution_count": 5,
   "metadata": {},
   "outputs": [
    {
     "name": "stdout",
     "output_type": "stream",
     "text": [
      "Loading data from ../ei/general/data/ar/2016/pre/results.covars.npz.\n",
      "\tSet force_from_csv=True to reload the data using updated files or group_cols/Y_cols/N_cols.\n"
     ]
    }
   ],
   "source": [
    "import os\n",
    "from elrpy.data.data import load\n",
    "year = 2016\n",
    "state = \"AR\"\n",
    "\n",
    "save_dir = f\"../ei/general/data/{state.lower()}/{year}/pre\"\n",
    "\n",
    "covars_path = f\"{os.path.dirname(save_dir)}/covars.csv.zip\"\n",
    "results_path = f\"{save_dir}/results.csv.zip\"\n",
    "\n",
    "group_data = load(\n",
    "\tcovars_path, results_path\n",
    ")"
   ]
  },
  {
   "cell_type": "code",
   "execution_count": 6,
   "metadata": {},
   "outputs": [],
   "source": [
    "def binary_model(model_params, X):\n",
    "    \"\"\"Returns the sigmoid of the linear model.\n",
    "\n",
    "    Args:\n",
    "        model_params (np.ndarray): model parameters\n",
    "        X (np.ndarray): data matrix\n",
    "\n",
    "    Returns:\n",
    "        np.ndarray: sigmoid of the linear model\n",
    "    \"\"\"\n",
    "    return torch.sigmoid(X @ model_params)"
   ]
  },
  {
   "cell_type": "code",
   "execution_count": 7,
   "metadata": {},
   "outputs": [],
   "source": [
    "import numpy as np\n",
    "for d in group_data:\n",
    "    for k in d:\n",
    "        y = torch.tensor(np.array(d[k]))"
   ]
  },
  {
   "cell_type": "code",
   "execution_count": 8,
   "metadata": {},
   "outputs": [],
   "source": [
    "group_data2 = tuple({k: torch.tensor(np.array(d[k])).float() for k in d} for d in group_data)"
   ]
  },
  {
   "cell_type": "code",
   "execution_count": 9,
   "metadata": {},
   "outputs": [],
   "source": [
    "def loss(model_params):\n",
    "    losses = torch.zeros(len(group_data2[0]))\n",
    "    for i, k in enumerate(group_data2[0].keys()):\n",
    "        p = binary_model(model_params, group_data2[0][k])\n",
    "        losses[i] = lyapunov_binary_loss(p, group_data2[1][k], group_data2[2][k])\n",
    "    return losses.mean()"
   ]
  },
  {
   "cell_type": "code",
   "execution_count": 10,
   "metadata": {},
   "outputs": [],
   "source": [
    "model_params = torch.zeros(next(iter(group_data[0].values())).shape[1]).float()"
   ]
  },
  {
   "cell_type": "code",
   "execution_count": 13,
   "metadata": {},
   "outputs": [
    {
     "ename": "RuntimeError",
     "evalue": "\nundefined value group_data2:\n  File \"/Users/njwfish/miniforge3/envs/elrpy/lib/python3.10/site-packages/torch/_functorch/eager_transforms.py\", line 2\ndef loss(model_params):\n    losses = torch.zeros(len(group_data2[0]))\n                             ~~~~~~~~~~~ <--- HERE\n    for i, k in enumerate(group_data2[0].keys()):\n        p = binary_model(model_params, group_data2[0][k])\n",
     "output_type": "error",
     "traceback": [
      "\u001b[0;31m---------------------------------------------------------------------------\u001b[0m",
      "\u001b[0;31mRuntimeError\u001b[0m                              Traceback (most recent call last)",
      "\u001b[1;32mUntitled-1.ipynb Cell 9\u001b[0m line \u001b[0;36m2\n\u001b[1;32m      <a href='vscode-notebook-cell:Untitled-1.ipynb?jupyter-notebook#W6sdW50aXRsZWQ%3D?line=0'>1</a>\u001b[0m \u001b[39mfrom\u001b[39;00m \u001b[39mtorch\u001b[39;00m\u001b[39m.\u001b[39;00m\u001b[39mfunc\u001b[39;00m \u001b[39mimport\u001b[39;00m hessian\n\u001b[0;32m----> <a href='vscode-notebook-cell:Untitled-1.ipynb?jupyter-notebook#W6sdW50aXRsZWQ%3D?line=1'>2</a>\u001b[0m hess_fn \u001b[39m=\u001b[39m torch\u001b[39m.\u001b[39;49mjit\u001b[39m.\u001b[39;49mscript(hessian(loss))\n",
      "File \u001b[0;32m~/miniforge3/envs/elrpy/lib/python3.10/site-packages/torch/jit/_script.py:1381\u001b[0m, in \u001b[0;36mscript\u001b[0;34m(obj, optimize, _frames_up, _rcb, example_inputs)\u001b[0m\n\u001b[1;32m   1379\u001b[0m \u001b[39mif\u001b[39;00m _rcb \u001b[39mis\u001b[39;00m \u001b[39mNone\u001b[39;00m:\n\u001b[1;32m   1380\u001b[0m     _rcb \u001b[39m=\u001b[39m _jit_internal\u001b[39m.\u001b[39mcreateResolutionCallbackFromClosure(obj)\n\u001b[0;32m-> 1381\u001b[0m fn \u001b[39m=\u001b[39m torch\u001b[39m.\u001b[39;49m_C\u001b[39m.\u001b[39;49m_jit_script_compile(\n\u001b[1;32m   1382\u001b[0m     qualified_name, ast, _rcb, get_default_args(obj)\n\u001b[1;32m   1383\u001b[0m )\n\u001b[1;32m   1384\u001b[0m \u001b[39m# Forward docstrings\u001b[39;00m\n\u001b[1;32m   1385\u001b[0m fn\u001b[39m.\u001b[39m\u001b[39m__doc__\u001b[39m \u001b[39m=\u001b[39m obj\u001b[39m.\u001b[39m\u001b[39m__doc__\u001b[39m\n",
      "\u001b[0;31mRuntimeError\u001b[0m: \nundefined value group_data2:\n  File \"/Users/njwfish/miniforge3/envs/elrpy/lib/python3.10/site-packages/torch/_functorch/eager_transforms.py\", line 2\ndef loss(model_params):\n    losses = torch.zeros(len(group_data2[0]))\n                             ~~~~~~~~~~~ <--- HERE\n    for i, k in enumerate(group_data2[0].keys()):\n        p = binary_model(model_params, group_data2[0][k])\n"
     ]
    }
   ],
   "source": [
    "from torch.func import hessian\n",
    "hess_fn = torch.jit.script(hessian(loss))"
   ]
  },
  {
   "cell_type": "code",
   "execution_count": 60,
   "metadata": {},
   "outputs": [],
   "source": [
    "import torch._dynamo\n",
    "torch._dynamo.config.suppress_errors = True"
   ]
  },
  {
   "cell_type": "code",
   "execution_count": 12,
   "metadata": {},
   "outputs": [
    {
     "name": "stderr",
     "output_type": "stream",
     "text": [
      "[2023-11-17 20:26:55,650] [4/0] torch._dynamo.utils: [WARNING] Unsupported: meta converter nyi with fake tensor propagation.\n"
     ]
    },
    {
     "ename": "InternalTorchDynamoError",
     "evalue": "Cannot access data pointer of Tensor that doesn't have storage\n\nfrom user code:\n \nSet TORCH_LOGS=\"+dynamo\" and TORCHDYNAMO_VERBOSE=1 for more information\n\n\nYou can suppress this exception and fall back to eager by setting:\n    import torch._dynamo\n    torch._dynamo.config.suppress_errors = True\n",
     "output_type": "error",
     "traceback": [
      "\u001b[0;31m---------------------------------------------------------------------------\u001b[0m",
      "\u001b[0;31mInternalTorchDynamoError\u001b[0m                  Traceback (most recent call last)",
      "\u001b[1;32mUntitled-1.ipynb Cell 11\u001b[0m line \u001b[0;36m1\n\u001b[0;32m----> <a href='vscode-notebook-cell:Untitled-1.ipynb?jupyter-notebook#X15sdW50aXRsZWQ%3D?line=0'>1</a>\u001b[0m hess \u001b[39m=\u001b[39m hess_fn(model_params)\n",
      "File \u001b[0;32m~/miniforge3/envs/elrpy/lib/python3.10/site-packages/torch/_dynamo/eval_frame.py:328\u001b[0m, in \u001b[0;36m_TorchDynamoContext.__call__.<locals>._fn\u001b[0;34m(*args, **kwargs)\u001b[0m\n\u001b[1;32m    326\u001b[0m dynamic_ctx\u001b[39m.\u001b[39m\u001b[39m__enter__\u001b[39m()\n\u001b[1;32m    327\u001b[0m \u001b[39mtry\u001b[39;00m:\n\u001b[0;32m--> 328\u001b[0m     \u001b[39mreturn\u001b[39;00m fn(\u001b[39m*\u001b[39;49margs, \u001b[39m*\u001b[39;49m\u001b[39m*\u001b[39;49mkwargs)\n\u001b[1;32m    329\u001b[0m \u001b[39mfinally\u001b[39;00m:\n\u001b[1;32m    330\u001b[0m     set_eval_frame(prior)\n",
      "File \u001b[0;32m~/miniforge3/envs/elrpy/lib/python3.10/site-packages/torch/_dynamo/external_utils.py:17\u001b[0m, in \u001b[0;36mwrap_inline.<locals>.inner\u001b[0;34m(*args, **kwargs)\u001b[0m\n\u001b[1;32m     15\u001b[0m \u001b[39m@functools\u001b[39m\u001b[39m.\u001b[39mwraps(fn)\n\u001b[1;32m     16\u001b[0m \u001b[39mdef\u001b[39;00m \u001b[39minner\u001b[39m(\u001b[39m*\u001b[39margs, \u001b[39m*\u001b[39m\u001b[39m*\u001b[39mkwargs):\n\u001b[0;32m---> 17\u001b[0m     \u001b[39mreturn\u001b[39;00m fn(\u001b[39m*\u001b[39margs, \u001b[39m*\u001b[39m\u001b[39m*\u001b[39mkwargs)\n",
      "File \u001b[0;32m~/miniforge3/envs/elrpy/lib/python3.10/site-packages/torch/_functorch/eager_transforms.py:1131\u001b[0m, in \u001b[0;36mjacfwd.<locals>.wrapper_fn\u001b[0;34m(*args)\u001b[0m\n\u001b[1;32m   1128\u001b[0m     _, jvp_out \u001b[39m=\u001b[39m output\n\u001b[1;32m   1129\u001b[0m     \u001b[39mreturn\u001b[39;00m jvp_out\n\u001b[0;32m-> 1131\u001b[0m results \u001b[39m=\u001b[39m vmap(push_jvp, randomness\u001b[39m=\u001b[39;49mrandomness)(basis)\n\u001b[1;32m   1132\u001b[0m \u001b[39mif\u001b[39;00m has_aux:\n\u001b[1;32m   1133\u001b[0m     results, aux \u001b[39m=\u001b[39m results\n",
      "File \u001b[0;32m~/miniforge3/envs/elrpy/lib/python3.10/site-packages/torch/_functorch/apis.py:188\u001b[0m, in \u001b[0;36mvmap.<locals>.wrapped\u001b[0;34m(*args, **kwargs)\u001b[0m\n\u001b[1;32m    187\u001b[0m \u001b[39mdef\u001b[39;00m \u001b[39mwrapped\u001b[39m(\u001b[39m*\u001b[39margs, \u001b[39m*\u001b[39m\u001b[39m*\u001b[39mkwargs):\n\u001b[0;32m--> 188\u001b[0m     \u001b[39mreturn\u001b[39;00m vmap_impl(func, in_dims, out_dims, randomness, chunk_size, \u001b[39m*\u001b[39margs, \u001b[39m*\u001b[39m\u001b[39m*\u001b[39mkwargs)\n",
      "File \u001b[0;32m~/miniforge3/envs/elrpy/lib/python3.10/site-packages/torch/_functorch/vmap.py:266\u001b[0m, in \u001b[0;36mvmap_impl\u001b[0;34m(func, in_dims, out_dims, randomness, chunk_size, *args, **kwargs)\u001b[0m\n\u001b[1;32m    262\u001b[0m     \u001b[39mreturn\u001b[39;00m _chunked_vmap(func, flat_in_dims, chunks_flat_args,\n\u001b[1;32m    263\u001b[0m                          args_spec, out_dims, randomness, \u001b[39m*\u001b[39m\u001b[39m*\u001b[39mkwargs)\n\u001b[1;32m    265\u001b[0m \u001b[39m# If chunk_size is not specified.\u001b[39;00m\n\u001b[0;32m--> 266\u001b[0m \u001b[39mreturn\u001b[39;00m _flat_vmap(\n\u001b[1;32m    267\u001b[0m     func, batch_size, flat_in_dims, flat_args, args_spec, out_dims, randomness, \u001b[39m*\u001b[39;49m\u001b[39m*\u001b[39;49mkwargs\n\u001b[1;32m    268\u001b[0m )\n",
      "File \u001b[0;32m~/miniforge3/envs/elrpy/lib/python3.10/site-packages/torch/_functorch/vmap.py:38\u001b[0m, in \u001b[0;36mdoesnt_support_saved_tensors_hooks.<locals>.fn\u001b[0;34m(*args, **kwargs)\u001b[0m\n\u001b[1;32m     35\u001b[0m \u001b[39m@functools\u001b[39m\u001b[39m.\u001b[39mwraps(f)\n\u001b[1;32m     36\u001b[0m \u001b[39mdef\u001b[39;00m \u001b[39mfn\u001b[39m(\u001b[39m*\u001b[39margs, \u001b[39m*\u001b[39m\u001b[39m*\u001b[39mkwargs):\n\u001b[1;32m     37\u001b[0m     \u001b[39mwith\u001b[39;00m torch\u001b[39m.\u001b[39mautograd\u001b[39m.\u001b[39mgraph\u001b[39m.\u001b[39mdisable_saved_tensors_hooks(message):\n\u001b[0;32m---> 38\u001b[0m         \u001b[39mreturn\u001b[39;00m f(\u001b[39m*\u001b[39;49margs, \u001b[39m*\u001b[39;49m\u001b[39m*\u001b[39;49mkwargs)\n",
      "File \u001b[0;32m~/miniforge3/envs/elrpy/lib/python3.10/site-packages/torch/_functorch/vmap.py:379\u001b[0m, in \u001b[0;36m_flat_vmap\u001b[0;34m(func, batch_size, flat_in_dims, flat_args, args_spec, out_dims, randomness, **kwargs)\u001b[0m\n\u001b[1;32m    377\u001b[0m \u001b[39mtry\u001b[39;00m:\n\u001b[1;32m    378\u001b[0m     batched_inputs \u001b[39m=\u001b[39m _create_batched_inputs(flat_in_dims, flat_args, vmap_level, args_spec)\n\u001b[0;32m--> 379\u001b[0m     batched_outputs \u001b[39m=\u001b[39m func(\u001b[39m*\u001b[39;49mbatched_inputs, \u001b[39m*\u001b[39;49m\u001b[39m*\u001b[39;49mkwargs)\n\u001b[1;32m    380\u001b[0m     \u001b[39mreturn\u001b[39;00m _unwrap_batched(batched_outputs, out_dims, vmap_level, batch_size, func)\n\u001b[1;32m    381\u001b[0m \u001b[39mfinally\u001b[39;00m:\n",
      "File \u001b[0;32m~/miniforge3/envs/elrpy/lib/python3.10/site-packages/torch/_functorch/eager_transforms.py:1122\u001b[0m, in \u001b[0;36mjacfwd.<locals>.wrapper_fn.<locals>.push_jvp\u001b[0;34m(basis)\u001b[0m\n\u001b[1;32m   1121\u001b[0m \u001b[39mdef\u001b[39;00m \u001b[39mpush_jvp\u001b[39m(basis):\n\u001b[0;32m-> 1122\u001b[0m     output \u001b[39m=\u001b[39m _jvp_with_argnums(func, args, basis, argnums\u001b[39m=\u001b[39;49margnums, has_aux\u001b[39m=\u001b[39;49mhas_aux)\n\u001b[1;32m   1123\u001b[0m     \u001b[39m# output[0] is the output of `func(*args)`\u001b[39;00m\n\u001b[1;32m   1124\u001b[0m     error_if_complex(\u001b[39m\"\u001b[39m\u001b[39mjacfwd\u001b[39m\u001b[39m\"\u001b[39m, output[\u001b[39m0\u001b[39m], is_input\u001b[39m=\u001b[39m\u001b[39mFalse\u001b[39;00m)\n",
      "File \u001b[0;32m~/miniforge3/envs/elrpy/lib/python3.10/site-packages/torch/_functorch/vmap.py:38\u001b[0m, in \u001b[0;36mdoesnt_support_saved_tensors_hooks.<locals>.fn\u001b[0;34m(*args, **kwargs)\u001b[0m\n\u001b[1;32m     35\u001b[0m \u001b[39m@functools\u001b[39m\u001b[39m.\u001b[39mwraps(f)\n\u001b[1;32m     36\u001b[0m \u001b[39mdef\u001b[39;00m \u001b[39mfn\u001b[39m(\u001b[39m*\u001b[39margs, \u001b[39m*\u001b[39m\u001b[39m*\u001b[39mkwargs):\n\u001b[1;32m     37\u001b[0m     \u001b[39mwith\u001b[39;00m torch\u001b[39m.\u001b[39mautograd\u001b[39m.\u001b[39mgraph\u001b[39m.\u001b[39mdisable_saved_tensors_hooks(message):\n\u001b[0;32m---> 38\u001b[0m         \u001b[39mreturn\u001b[39;00m f(\u001b[39m*\u001b[39;49margs, \u001b[39m*\u001b[39;49m\u001b[39m*\u001b[39;49mkwargs)\n",
      "File \u001b[0;32m~/miniforge3/envs/elrpy/lib/python3.10/site-packages/torch/_functorch/eager_transforms.py:968\u001b[0m, in \u001b[0;36m_jvp_with_argnums\u001b[0;34m(func, primals, tangents, argnums, strict, has_aux)\u001b[0m\n\u001b[1;32m    966\u001b[0m     primals \u001b[39m=\u001b[39m _wrap_all_tensors(primals, level)\n\u001b[1;32m    967\u001b[0m     duals \u001b[39m=\u001b[39m _replace_args(primals, duals, argnums)\n\u001b[0;32m--> 968\u001b[0m result_duals \u001b[39m=\u001b[39m func(\u001b[39m*\u001b[39;49mduals)\n\u001b[1;32m    969\u001b[0m \u001b[39mif\u001b[39;00m has_aux:\n\u001b[1;32m    970\u001b[0m     \u001b[39mif\u001b[39;00m \u001b[39mnot\u001b[39;00m (\u001b[39misinstance\u001b[39m(result_duals, \u001b[39mtuple\u001b[39m) \u001b[39mand\u001b[39;00m \u001b[39mlen\u001b[39m(result_duals) \u001b[39m==\u001b[39m \u001b[39m2\u001b[39m):\n",
      "File \u001b[0;32m~/miniforge3/envs/elrpy/lib/python3.10/site-packages/torch/_functorch/eager_transforms.py:492\u001b[0m, in \u001b[0;36mjacrev.<locals>.wrapper_fn\u001b[0;34m(*args)\u001b[0m\n\u001b[1;32m    489\u001b[0m \u001b[39m@wraps\u001b[39m(func)\n\u001b[1;32m    490\u001b[0m \u001b[39mdef\u001b[39;00m \u001b[39mwrapper_fn\u001b[39m(\u001b[39m*\u001b[39margs):\n\u001b[1;32m    491\u001b[0m     error_if_complex(\u001b[39m\"\u001b[39m\u001b[39mjacrev\u001b[39m\u001b[39m\"\u001b[39m, args, is_input\u001b[39m=\u001b[39m\u001b[39mTrue\u001b[39;00m)\n\u001b[0;32m--> 492\u001b[0m     vjp_out \u001b[39m=\u001b[39m _vjp_with_argnums(func, \u001b[39m*\u001b[39;49margs, argnums\u001b[39m=\u001b[39;49margnums, has_aux\u001b[39m=\u001b[39;49mhas_aux)\n\u001b[1;32m    493\u001b[0m     \u001b[39mif\u001b[39;00m has_aux:\n\u001b[1;32m    494\u001b[0m         output, vjp_fn, aux \u001b[39m=\u001b[39m vjp_out\n",
      "File \u001b[0;32m~/miniforge3/envs/elrpy/lib/python3.10/site-packages/torch/_functorch/vmap.py:38\u001b[0m, in \u001b[0;36mdoesnt_support_saved_tensors_hooks.<locals>.fn\u001b[0;34m(*args, **kwargs)\u001b[0m\n\u001b[1;32m     35\u001b[0m \u001b[39m@functools\u001b[39m\u001b[39m.\u001b[39mwraps(f)\n\u001b[1;32m     36\u001b[0m \u001b[39mdef\u001b[39;00m \u001b[39mfn\u001b[39m(\u001b[39m*\u001b[39margs, \u001b[39m*\u001b[39m\u001b[39m*\u001b[39mkwargs):\n\u001b[1;32m     37\u001b[0m     \u001b[39mwith\u001b[39;00m torch\u001b[39m.\u001b[39mautograd\u001b[39m.\u001b[39mgraph\u001b[39m.\u001b[39mdisable_saved_tensors_hooks(message):\n\u001b[0;32m---> 38\u001b[0m         \u001b[39mreturn\u001b[39;00m f(\u001b[39m*\u001b[39;49margs, \u001b[39m*\u001b[39;49m\u001b[39m*\u001b[39;49mkwargs)\n",
      "File \u001b[0;32m~/miniforge3/envs/elrpy/lib/python3.10/site-packages/torch/_functorch/eager_transforms.py:294\u001b[0m, in \u001b[0;36m_vjp_with_argnums\u001b[0;34m(func, argnums, has_aux, *primals)\u001b[0m\n\u001b[1;32m    292\u001b[0m     diff_primals \u001b[39m=\u001b[39m _slice_argnums(primals, argnums, as_tuple\u001b[39m=\u001b[39m\u001b[39mFalse\u001b[39;00m)\n\u001b[1;32m    293\u001b[0m     tree_map_(partial(_create_differentiable, level\u001b[39m=\u001b[39mlevel), diff_primals)\n\u001b[0;32m--> 294\u001b[0m primals_out \u001b[39m=\u001b[39m func(\u001b[39m*\u001b[39;49mprimals)\n\u001b[1;32m    296\u001b[0m \u001b[39mif\u001b[39;00m has_aux:\n\u001b[1;32m    297\u001b[0m     \u001b[39mif\u001b[39;00m \u001b[39mnot\u001b[39;00m (\u001b[39misinstance\u001b[39m(primals_out, \u001b[39mtuple\u001b[39m) \u001b[39mand\u001b[39;00m \u001b[39mlen\u001b[39m(primals_out) \u001b[39m==\u001b[39m \u001b[39m2\u001b[39m):\n",
      "File \u001b[0;32m~/miniforge3/envs/elrpy/lib/python3.10/site-packages/torch/_dynamo/eval_frame.py:490\u001b[0m, in \u001b[0;36mcatch_errors_wrapper.<locals>.catch_errors\u001b[0;34m(frame, cache_entry, frame_state)\u001b[0m\n\u001b[1;32m    487\u001b[0m             \u001b[39mreturn\u001b[39;00m hijacked_callback(frame, cache_entry, hooks, frame_state)\n\u001b[1;32m    489\u001b[0m \u001b[39mwith\u001b[39;00m compile_lock, _disable_current_modes():\n\u001b[0;32m--> 490\u001b[0m     \u001b[39mreturn\u001b[39;00m callback(frame, cache_entry, hooks, frame_state)\n",
      "File \u001b[0;32m~/miniforge3/envs/elrpy/lib/python3.10/site-packages/torch/_dynamo/convert_frame.py:641\u001b[0m, in \u001b[0;36mconvert_frame.<locals>._convert_frame\u001b[0;34m(frame, cache_size, hooks, frame_state)\u001b[0m\n\u001b[1;32m    639\u001b[0m counters[\u001b[39m\"\u001b[39m\u001b[39mframes\u001b[39m\u001b[39m\"\u001b[39m][\u001b[39m\"\u001b[39m\u001b[39mtotal\u001b[39m\u001b[39m\"\u001b[39m] \u001b[39m+\u001b[39m\u001b[39m=\u001b[39m \u001b[39m1\u001b[39m\n\u001b[1;32m    640\u001b[0m \u001b[39mtry\u001b[39;00m:\n\u001b[0;32m--> 641\u001b[0m     result \u001b[39m=\u001b[39m inner_convert(frame, cache_size, hooks, frame_state)\n\u001b[1;32m    642\u001b[0m     counters[\u001b[39m\"\u001b[39m\u001b[39mframes\u001b[39m\u001b[39m\"\u001b[39m][\u001b[39m\"\u001b[39m\u001b[39mok\u001b[39m\u001b[39m\"\u001b[39m] \u001b[39m+\u001b[39m\u001b[39m=\u001b[39m \u001b[39m1\u001b[39m\n\u001b[1;32m    643\u001b[0m     \u001b[39mreturn\u001b[39;00m result\n",
      "File \u001b[0;32m~/miniforge3/envs/elrpy/lib/python3.10/site-packages/torch/_dynamo/convert_frame.py:133\u001b[0m, in \u001b[0;36mwrap_convert_context.<locals>._fn\u001b[0;34m(*args, **kwargs)\u001b[0m\n\u001b[1;32m    131\u001b[0m cleanup \u001b[39m=\u001b[39m setup_compile_debug()\n\u001b[1;32m    132\u001b[0m \u001b[39mtry\u001b[39;00m:\n\u001b[0;32m--> 133\u001b[0m     \u001b[39mreturn\u001b[39;00m fn(\u001b[39m*\u001b[39;49margs, \u001b[39m*\u001b[39;49m\u001b[39m*\u001b[39;49mkwargs)\n\u001b[1;32m    134\u001b[0m \u001b[39mfinally\u001b[39;00m:\n\u001b[1;32m    135\u001b[0m     cleanup\u001b[39m.\u001b[39mclose()\n",
      "File \u001b[0;32m~/miniforge3/envs/elrpy/lib/python3.10/site-packages/torch/_dynamo/convert_frame.py:389\u001b[0m, in \u001b[0;36mconvert_frame_assert.<locals>._convert_frame_assert\u001b[0;34m(frame, cache_entry, hooks, frame_state)\u001b[0m\n\u001b[1;32m    376\u001b[0m compile_id \u001b[39m=\u001b[39m CompileId(frame_id, frame_compile_id)\n\u001b[1;32m    378\u001b[0m signpost_event(\n\u001b[1;32m    379\u001b[0m     \u001b[39m\"\u001b[39m\u001b[39mdynamo\u001b[39m\u001b[39m\"\u001b[39m,\n\u001b[1;32m    380\u001b[0m     \u001b[39m\"\u001b[39m\u001b[39m_convert_frame_assert._compile\u001b[39m\u001b[39m\"\u001b[39m,\n\u001b[0;32m   (...)\u001b[0m\n\u001b[1;32m    386\u001b[0m     },\n\u001b[1;32m    387\u001b[0m )\n\u001b[0;32m--> 389\u001b[0m \u001b[39mreturn\u001b[39;00m _compile(\n\u001b[1;32m    390\u001b[0m     frame\u001b[39m.\u001b[39;49mf_code,\n\u001b[1;32m    391\u001b[0m     frame\u001b[39m.\u001b[39;49mf_globals,\n\u001b[1;32m    392\u001b[0m     frame\u001b[39m.\u001b[39;49mf_locals,\n\u001b[1;32m    393\u001b[0m     frame\u001b[39m.\u001b[39;49mf_builtins,\n\u001b[1;32m    394\u001b[0m     compiler_fn,\n\u001b[1;32m    395\u001b[0m     one_graph,\n\u001b[1;32m    396\u001b[0m     export,\n\u001b[1;32m    397\u001b[0m     export_constraints,\n\u001b[1;32m    398\u001b[0m     hooks,\n\u001b[1;32m    399\u001b[0m     cache_size,\n\u001b[1;32m    400\u001b[0m     frame,\n\u001b[1;32m    401\u001b[0m     frame_state\u001b[39m=\u001b[39;49mframe_state,\n\u001b[1;32m    402\u001b[0m     compile_id\u001b[39m=\u001b[39;49mcompile_id,\n\u001b[1;32m    403\u001b[0m )\n",
      "File \u001b[0;32m~/miniforge3/envs/elrpy/lib/python3.10/site-packages/torch/_dynamo/convert_frame.py:586\u001b[0m, in \u001b[0;36m_compile\u001b[0;34m(code, globals, locals, builtins, compiler_fn, one_graph, export, export_constraints, hooks, cache_size, frame, frame_state, compile_id)\u001b[0m\n\u001b[1;32m    584\u001b[0m     fail_reason \u001b[39m=\u001b[39m \u001b[39mstr\u001b[39m(e)\n\u001b[1;32m    585\u001b[0m     exception_handler(e, code, frame, export\u001b[39m=\u001b[39mexport)\n\u001b[0;32m--> 586\u001b[0m     \u001b[39mraise\u001b[39;00m InternalTorchDynamoError(\u001b[39mstr\u001b[39m(e))\u001b[39m.\u001b[39mwith_traceback(\n\u001b[1;32m    587\u001b[0m         e\u001b[39m.\u001b[39m__traceback__\n\u001b[1;32m    588\u001b[0m     ) \u001b[39mfrom\u001b[39;00m \u001b[39mNone\u001b[39;00m\n\u001b[1;32m    589\u001b[0m \u001b[39mfinally\u001b[39;00m:\n\u001b[1;32m    590\u001b[0m     \u001b[39mfrom\u001b[39;00m \u001b[39m.\u001b[39;00m\u001b[39mutils\u001b[39;00m \u001b[39mimport\u001b[39;00m curr_frame\n",
      "File \u001b[0;32m~/miniforge3/envs/elrpy/lib/python3.10/site-packages/torch/_dynamo/convert_frame.py:569\u001b[0m, in \u001b[0;36m_compile\u001b[0;34m(code, globals, locals, builtins, compiler_fn, one_graph, export, export_constraints, hooks, cache_size, frame, frame_state, compile_id)\u001b[0m\n\u001b[1;32m    567\u001b[0m \u001b[39mwith\u001b[39;00m compile_context(CompileContext(compile_id)):\n\u001b[1;32m    568\u001b[0m     \u001b[39mtry\u001b[39;00m:\n\u001b[0;32m--> 569\u001b[0m         guarded_code \u001b[39m=\u001b[39m compile_inner(code, one_graph, hooks, transform)\n\u001b[1;32m    570\u001b[0m         \u001b[39mreturn\u001b[39;00m guarded_code\n\u001b[1;32m    571\u001b[0m     \u001b[39mexcept\u001b[39;00m (\n\u001b[1;32m    572\u001b[0m         Unsupported,\n\u001b[1;32m    573\u001b[0m         TorchRuntimeError,\n\u001b[0;32m   (...)\u001b[0m\n\u001b[1;32m    578\u001b[0m         ValidationException,\n\u001b[1;32m    579\u001b[0m     ) \u001b[39mas\u001b[39;00m e:\n",
      "File \u001b[0;32m~/miniforge3/envs/elrpy/lib/python3.10/site-packages/torch/_dynamo/utils.py:189\u001b[0m, in \u001b[0;36mdynamo_timed.<locals>.dynamo_timed_inner.<locals>.time_wrapper\u001b[0;34m(*args, **kwargs)\u001b[0m\n\u001b[1;32m    187\u001b[0m \u001b[39mwith\u001b[39;00m torch\u001b[39m.\u001b[39mprofiler\u001b[39m.\u001b[39mrecord_function(\u001b[39mf\u001b[39m\u001b[39m\"\u001b[39m\u001b[39m{\u001b[39;00mkey\u001b[39m}\u001b[39;00m\u001b[39m (dynamo_timed)\u001b[39m\u001b[39m\"\u001b[39m):\n\u001b[1;32m    188\u001b[0m     t0 \u001b[39m=\u001b[39m time\u001b[39m.\u001b[39mtime()\n\u001b[0;32m--> 189\u001b[0m     r \u001b[39m=\u001b[39m func(\u001b[39m*\u001b[39;49margs, \u001b[39m*\u001b[39;49m\u001b[39m*\u001b[39;49mkwargs)\n\u001b[1;32m    190\u001b[0m     time_spent \u001b[39m=\u001b[39m time\u001b[39m.\u001b[39mtime() \u001b[39m-\u001b[39m t0\n\u001b[1;32m    191\u001b[0m compilation_time_metrics[key]\u001b[39m.\u001b[39mappend(time_spent)\n",
      "File \u001b[0;32m~/miniforge3/envs/elrpy/lib/python3.10/site-packages/torch/_dynamo/convert_frame.py:491\u001b[0m, in \u001b[0;36m_compile.<locals>.compile_inner\u001b[0;34m(code, one_graph, hooks, transform)\u001b[0m\n\u001b[1;32m    489\u001b[0m \u001b[39mfor\u001b[39;00m attempt \u001b[39min\u001b[39;00m itertools\u001b[39m.\u001b[39mcount():\n\u001b[1;32m    490\u001b[0m     \u001b[39mtry\u001b[39;00m:\n\u001b[0;32m--> 491\u001b[0m         out_code \u001b[39m=\u001b[39m transform_code_object(code, transform)\n\u001b[1;32m    492\u001b[0m         orig_code_map[out_code] \u001b[39m=\u001b[39m code\n\u001b[1;32m    493\u001b[0m         \u001b[39mbreak\u001b[39;00m\n",
      "File \u001b[0;32m~/miniforge3/envs/elrpy/lib/python3.10/site-packages/torch/_dynamo/bytecode_transformation.py:1028\u001b[0m, in \u001b[0;36mtransform_code_object\u001b[0;34m(code, transformations, safe)\u001b[0m\n\u001b[1;32m   1025\u001b[0m instructions \u001b[39m=\u001b[39m cleaned_instructions(code, safe)\n\u001b[1;32m   1026\u001b[0m propagate_line_nums(instructions)\n\u001b[0;32m-> 1028\u001b[0m transformations(instructions, code_options)\n\u001b[1;32m   1029\u001b[0m \u001b[39mreturn\u001b[39;00m clean_and_assemble_instructions(instructions, keys, code_options)[\u001b[39m1\u001b[39m]\n",
      "File \u001b[0;32m~/miniforge3/envs/elrpy/lib/python3.10/site-packages/torch/_dynamo/convert_frame.py:441\u001b[0m, in \u001b[0;36m_compile.<locals>.transform\u001b[0;34m(instructions, code_options)\u001b[0m\n\u001b[1;32m    439\u001b[0m \u001b[39mdef\u001b[39;00m \u001b[39mtransform\u001b[39m(instructions, code_options):\n\u001b[1;32m    440\u001b[0m     \u001b[39mnonlocal\u001b[39;00m output\n\u001b[0;32m--> 441\u001b[0m     tracer \u001b[39m=\u001b[39m InstructionTranslator(\n\u001b[1;32m    442\u001b[0m         instructions,\n\u001b[1;32m    443\u001b[0m         code,\n\u001b[1;32m    444\u001b[0m         \u001b[39mlocals\u001b[39;49m,\n\u001b[1;32m    445\u001b[0m         \u001b[39mglobals\u001b[39;49m,\n\u001b[1;32m    446\u001b[0m         builtins,\n\u001b[1;32m    447\u001b[0m         code_options,\n\u001b[1;32m    448\u001b[0m         compiler_fn,\n\u001b[1;32m    449\u001b[0m         one_graph,\n\u001b[1;32m    450\u001b[0m         export,\n\u001b[1;32m    451\u001b[0m         export_constraints,\n\u001b[1;32m    452\u001b[0m         mutated_closure_cell_contents,\n\u001b[1;32m    453\u001b[0m         frame_state\u001b[39m=\u001b[39;49mframe_state,\n\u001b[1;32m    454\u001b[0m     )\n\u001b[1;32m    456\u001b[0m     \u001b[39mtry\u001b[39;00m:\n\u001b[1;32m    457\u001b[0m         \u001b[39mwith\u001b[39;00m tracing(tracer\u001b[39m.\u001b[39moutput\u001b[39m.\u001b[39mtracing_context):\n",
      "File \u001b[0;32m~/miniforge3/envs/elrpy/lib/python3.10/site-packages/torch/_dynamo/symbolic_convert.py:2013\u001b[0m, in \u001b[0;36mInstructionTranslator.__init__\u001b[0;34m(self, instructions, f_code, f_locals, f_globals, f_builtins, code_options, compiler_fn, one_graph, export, export_constraints, mutated_closure_cell_contents, frame_state)\u001b[0m\n\u001b[1;32m   2010\u001b[0m \u001b[39mvars\u001b[39m\u001b[39m.\u001b[39mextend(cells_and_freevars)\n\u001b[1;32m   2011\u001b[0m cells_and_freevars_set \u001b[39m=\u001b[39m \u001b[39mset\u001b[39m(cells_and_freevars)\n\u001b[0;32m-> 2013\u001b[0m \u001b[39mself\u001b[39m\u001b[39m.\u001b[39msymbolic_locals \u001b[39m=\u001b[39m collections\u001b[39m.\u001b[39;49mOrderedDict(\n\u001b[1;32m   2014\u001b[0m     (\n\u001b[1;32m   2015\u001b[0m         k,\n\u001b[1;32m   2016\u001b[0m         VariableBuilder(\n\u001b[1;32m   2017\u001b[0m             \u001b[39mself\u001b[39;49m,\n\u001b[1;32m   2018\u001b[0m             LocalSource(k, cell_or_freevar\u001b[39m=\u001b[39;49mk \u001b[39min\u001b[39;49;00m cells_and_freevars_set),\n\u001b[1;32m   2019\u001b[0m         )(f_locals[k]),\n\u001b[1;32m   2020\u001b[0m     )\n\u001b[1;32m   2021\u001b[0m     \u001b[39mfor\u001b[39;49;00m k \u001b[39min\u001b[39;49;00m \u001b[39mvars\u001b[39;49m\n\u001b[1;32m   2022\u001b[0m     \u001b[39mif\u001b[39;49;00m k \u001b[39min\u001b[39;49;00m f_locals\n\u001b[1;32m   2023\u001b[0m )\n\u001b[1;32m   2025\u001b[0m \u001b[39mself\u001b[39m\u001b[39m.\u001b[39minit_local_index_guards_hack()\n\u001b[1;32m   2027\u001b[0m \u001b[39mself\u001b[39m\u001b[39m.\u001b[39m_freevars_ids \u001b[39m=\u001b[39m \u001b[39mdict\u001b[39m()\n",
      "File \u001b[0;32m~/miniforge3/envs/elrpy/lib/python3.10/site-packages/torch/_dynamo/symbolic_convert.py:2016\u001b[0m, in \u001b[0;36m<genexpr>\u001b[0;34m(.0)\u001b[0m\n\u001b[1;32m   2010\u001b[0m \u001b[39mvars\u001b[39m\u001b[39m.\u001b[39mextend(cells_and_freevars)\n\u001b[1;32m   2011\u001b[0m cells_and_freevars_set \u001b[39m=\u001b[39m \u001b[39mset\u001b[39m(cells_and_freevars)\n\u001b[1;32m   2013\u001b[0m \u001b[39mself\u001b[39m\u001b[39m.\u001b[39msymbolic_locals \u001b[39m=\u001b[39m collections\u001b[39m.\u001b[39mOrderedDict(\n\u001b[1;32m   2014\u001b[0m     (\n\u001b[1;32m   2015\u001b[0m         k,\n\u001b[0;32m-> 2016\u001b[0m         VariableBuilder(\n\u001b[1;32m   2017\u001b[0m             \u001b[39mself\u001b[39;49m,\n\u001b[1;32m   2018\u001b[0m             LocalSource(k, cell_or_freevar\u001b[39m=\u001b[39;49mk \u001b[39min\u001b[39;49;00m cells_and_freevars_set),\n\u001b[1;32m   2019\u001b[0m         )(f_locals[k]),\n\u001b[1;32m   2020\u001b[0m     )\n\u001b[1;32m   2021\u001b[0m     \u001b[39mfor\u001b[39;00m k \u001b[39min\u001b[39;00m \u001b[39mvars\u001b[39m\n\u001b[1;32m   2022\u001b[0m     \u001b[39mif\u001b[39;00m k \u001b[39min\u001b[39;00m f_locals\n\u001b[1;32m   2023\u001b[0m )\n\u001b[1;32m   2025\u001b[0m \u001b[39mself\u001b[39m\u001b[39m.\u001b[39minit_local_index_guards_hack()\n\u001b[1;32m   2027\u001b[0m \u001b[39mself\u001b[39m\u001b[39m.\u001b[39m_freevars_ids \u001b[39m=\u001b[39m \u001b[39mdict\u001b[39m()\n",
      "File \u001b[0;32m~/miniforge3/envs/elrpy/lib/python3.10/site-packages/torch/_dynamo/variables/builder.py:225\u001b[0m, in \u001b[0;36mVariableBuilder.__call__\u001b[0;34m(self, value)\u001b[0m\n\u001b[1;32m    221\u001b[0m         side_effect_result \u001b[39m=\u001b[39m side_effect_result\u001b[39m.\u001b[39madd_guards(\n\u001b[1;32m    222\u001b[0m             \u001b[39mself\u001b[39m\u001b[39m.\u001b[39mmake_guards(dup_guard)\n\u001b[1;32m    223\u001b[0m         )\n\u001b[1;32m    224\u001b[0m     \u001b[39mreturn\u001b[39;00m side_effect_result\n\u001b[0;32m--> 225\u001b[0m vt \u001b[39m=\u001b[39m \u001b[39mself\u001b[39;49m\u001b[39m.\u001b[39;49m_wrap(value)\u001b[39m.\u001b[39mclone(\u001b[39m*\u001b[39m\u001b[39m*\u001b[39m\u001b[39mself\u001b[39m\u001b[39m.\u001b[39moptions())\n\u001b[1;32m    226\u001b[0m \u001b[39mif\u001b[39;00m \u001b[39mself\u001b[39m\u001b[39m.\u001b[39m_can_lift_attrs_to_inputs(vt):\n\u001b[1;32m    227\u001b[0m     vt \u001b[39m=\u001b[39m \u001b[39mself\u001b[39m\u001b[39m.\u001b[39mtx\u001b[39m.\u001b[39moutput\u001b[39m.\u001b[39mside_effects\u001b[39m.\u001b[39mtrack_object_existing(\n\u001b[1;32m    228\u001b[0m         \u001b[39mself\u001b[39m\u001b[39m.\u001b[39msource, value, vt\n\u001b[1;32m    229\u001b[0m     )\n",
      "File \u001b[0;32m~/miniforge3/envs/elrpy/lib/python3.10/site-packages/torch/_dynamo/variables/builder.py:370\u001b[0m, in \u001b[0;36mVariableBuilder._wrap\u001b[0;34m(self, value)\u001b[0m\n\u001b[1;32m    368\u001b[0m type_dispatch \u001b[39m=\u001b[39m \u001b[39mself\u001b[39m\u001b[39m.\u001b[39m_type_dispatch()\u001b[39m.\u001b[39mget(\u001b[39mtype\u001b[39m(value))\n\u001b[1;32m    369\u001b[0m \u001b[39mif\u001b[39;00m type_dispatch \u001b[39mis\u001b[39;00m \u001b[39mnot\u001b[39;00m \u001b[39mNone\u001b[39;00m:\n\u001b[0;32m--> 370\u001b[0m     \u001b[39mreturn\u001b[39;00m type_dispatch(\u001b[39mself\u001b[39;49m, value)\n\u001b[1;32m    372\u001b[0m \u001b[39m# Handle exact id() match\u001b[39;00m\n\u001b[1;32m    373\u001b[0m id_dispatch \u001b[39m=\u001b[39m \u001b[39mself\u001b[39m\u001b[39m.\u001b[39m_id_dispatch()\u001b[39m.\u001b[39mget(\u001b[39mid\u001b[39m(value))\n",
      "File \u001b[0;32m~/miniforge3/envs/elrpy/lib/python3.10/site-packages/torch/_dynamo/variables/builder.py:964\u001b[0m, in \u001b[0;36mVariableBuilder.wrap_tensor\u001b[0;34m(self, value)\u001b[0m\n\u001b[1;32m    952\u001b[0m \u001b[39m# tx.output has multiple tracers if we're introspecting HigherOrderOperator.\u001b[39;00m\n\u001b[1;32m    953\u001b[0m \u001b[39m# When we've discovered an untracked tensor, then we actually need\u001b[39;00m\n\u001b[1;32m    954\u001b[0m \u001b[39m# to get Dynamo to track the tensor (which is what this function does)\u001b[39;00m\n\u001b[0;32m   (...)\u001b[0m\n\u001b[1;32m    958\u001b[0m \u001b[39m# the subgraph.\u001b[39;00m\n\u001b[1;32m    959\u001b[0m \u001b[39m# See NOTE [HigherOrderOperator tracing design] for more details.\u001b[39;00m\n\u001b[1;32m    961\u001b[0m tensor_proxy \u001b[39m=\u001b[39m \u001b[39mself\u001b[39m\u001b[39m.\u001b[39mtx\u001b[39m.\u001b[39moutput\u001b[39m.\u001b[39mroot_tracer\u001b[39m.\u001b[39mcreate_graph_input(\n\u001b[1;32m    962\u001b[0m     re\u001b[39m.\u001b[39msub(\u001b[39mr\u001b[39m\u001b[39m\"\u001b[39m\u001b[39m[^a-zA-Z0-9]+\u001b[39m\u001b[39m\"\u001b[39m, \u001b[39m\"\u001b[39m\u001b[39m_\u001b[39m\u001b[39m\"\u001b[39m, \u001b[39mself\u001b[39m\u001b[39m.\u001b[39mname), \u001b[39mtype\u001b[39m(value), source\u001b[39m=\u001b[39msource\n\u001b[1;32m    963\u001b[0m )\n\u001b[0;32m--> 964\u001b[0m tensor_variable \u001b[39m=\u001b[39m wrap_fx_proxy(\n\u001b[1;32m    965\u001b[0m     tx\u001b[39m=\u001b[39;49m\u001b[39mself\u001b[39;49m\u001b[39m.\u001b[39;49mtx,\n\u001b[1;32m    966\u001b[0m     proxy\u001b[39m=\u001b[39;49mtensor_proxy,\n\u001b[1;32m    967\u001b[0m     example_value\u001b[39m=\u001b[39;49mvalue,\n\u001b[1;32m    968\u001b[0m     guards\u001b[39m=\u001b[39;49m\u001b[39mself\u001b[39;49m\u001b[39m.\u001b[39;49mmake_guards(\n\u001b[1;32m    969\u001b[0m         functools\u001b[39m.\u001b[39;49mpartial(\n\u001b[1;32m    970\u001b[0m             GuardBuilder\u001b[39m.\u001b[39;49mTENSOR_MATCH,\n\u001b[1;32m    971\u001b[0m             value\u001b[39m=\u001b[39;49mvalue\n\u001b[1;32m    972\u001b[0m             \u001b[39mif\u001b[39;49;00m \u001b[39misinstance\u001b[39;49m(source, NumpyTensorSource)\n\u001b[1;32m    973\u001b[0m             \u001b[39melse\u001b[39;49;00m TensorWeakRef(value),\n\u001b[1;32m    974\u001b[0m         )\n\u001b[1;32m    975\u001b[0m     ),\n\u001b[1;32m    976\u001b[0m     should_specialize\u001b[39m=\u001b[39;49m\u001b[39mself\u001b[39;49m\u001b[39m.\u001b[39;49mtensor_should_specialize(),\n\u001b[1;32m    977\u001b[0m     ignore_subclass\u001b[39m=\u001b[39;49mignore_subclass,\n\u001b[1;32m    978\u001b[0m     source\u001b[39m=\u001b[39;49msource,\n\u001b[1;32m    979\u001b[0m )\n\u001b[1;32m    980\u001b[0m \u001b[39mself\u001b[39m\u001b[39m.\u001b[39mtx\u001b[39m.\u001b[39moutput\u001b[39m.\u001b[39minput_source_to_var[source] \u001b[39m=\u001b[39m tensor_variable\n\u001b[1;32m    981\u001b[0m \u001b[39massert\u001b[39;00m \u001b[39m\"\u001b[39m\u001b[39mtensor_dict\u001b[39m\u001b[39m\"\u001b[39m \u001b[39mnot\u001b[39;00m \u001b[39min\u001b[39;00m tensor_proxy\u001b[39m.\u001b[39mnode\u001b[39m.\u001b[39mmeta\n",
      "File \u001b[0;32m~/miniforge3/envs/elrpy/lib/python3.10/site-packages/torch/_dynamo/variables/builder.py:1191\u001b[0m, in \u001b[0;36mwrap_fx_proxy\u001b[0;34m(tx, proxy, example_value, **options)\u001b[0m\n\u001b[1;32m   1190\u001b[0m \u001b[39mdef\u001b[39;00m \u001b[39mwrap_fx_proxy\u001b[39m(tx, proxy, example_value\u001b[39m=\u001b[39m\u001b[39mNone\u001b[39;00m, \u001b[39m*\u001b[39m\u001b[39m*\u001b[39moptions):\n\u001b[0;32m-> 1191\u001b[0m     \u001b[39mreturn\u001b[39;00m wrap_fx_proxy_cls(\n\u001b[1;32m   1192\u001b[0m         target_cls\u001b[39m=\u001b[39;49mTensorVariable,\n\u001b[1;32m   1193\u001b[0m         tx\u001b[39m=\u001b[39;49mtx,\n\u001b[1;32m   1194\u001b[0m         proxy\u001b[39m=\u001b[39;49mproxy,\n\u001b[1;32m   1195\u001b[0m         example_value\u001b[39m=\u001b[39;49mexample_value,\n\u001b[1;32m   1196\u001b[0m         \u001b[39m*\u001b[39;49m\u001b[39m*\u001b[39;49moptions,\n\u001b[1;32m   1197\u001b[0m     )\n",
      "File \u001b[0;32m~/miniforge3/envs/elrpy/lib/python3.10/site-packages/torch/_dynamo/variables/builder.py:1276\u001b[0m, in \u001b[0;36mwrap_fx_proxy_cls\u001b[0;34m(target_cls, tx, proxy, example_value, ignore_subclass, **options)\u001b[0m\n\u001b[1;32m   1272\u001b[0m             value \u001b[39m=\u001b[39m clone_input(value)\n\u001b[1;32m   1274\u001b[0m     \u001b[39mreturn\u001b[39;00m value\n\u001b[0;32m-> 1276\u001b[0m \u001b[39mwith\u001b[39;00m preserve_rng_state():\n\u001b[1;32m   1277\u001b[0m     \u001b[39mif\u001b[39;00m example_value \u001b[39mis\u001b[39;00m \u001b[39mNone\u001b[39;00m:\n\u001b[1;32m   1278\u001b[0m         example_value \u001b[39m=\u001b[39m get_fake_value(proxy\u001b[39m.\u001b[39mnode, tx)\n",
      "File \u001b[0;32m~/miniforge3/envs/elrpy/lib/python3.10/contextlib.py:153\u001b[0m, in \u001b[0;36m_GeneratorContextManager.__exit__\u001b[0;34m(self, typ, value, traceback)\u001b[0m\n\u001b[1;32m    151\u001b[0m     value \u001b[39m=\u001b[39m typ()\n\u001b[1;32m    152\u001b[0m \u001b[39mtry\u001b[39;00m:\n\u001b[0;32m--> 153\u001b[0m     \u001b[39mself\u001b[39;49m\u001b[39m.\u001b[39;49mgen\u001b[39m.\u001b[39;49mthrow(typ, value, traceback)\n\u001b[1;32m    154\u001b[0m \u001b[39mexcept\u001b[39;00m \u001b[39mStopIteration\u001b[39;00m \u001b[39mas\u001b[39;00m exc:\n\u001b[1;32m    155\u001b[0m     \u001b[39m# Suppress StopIteration *unless* it's the same exception that\u001b[39;00m\n\u001b[1;32m    156\u001b[0m     \u001b[39m# was passed to throw().  This prevents a StopIteration\u001b[39;00m\n\u001b[1;32m    157\u001b[0m     \u001b[39m# raised inside the \"with\" statement from being suppressed.\u001b[39;00m\n\u001b[1;32m    158\u001b[0m     \u001b[39mreturn\u001b[39;00m exc \u001b[39mis\u001b[39;00m \u001b[39mnot\u001b[39;00m value\n",
      "File \u001b[0;32m~/miniforge3/envs/elrpy/lib/python3.10/site-packages/torch/_dynamo/utils.py:635\u001b[0m, in \u001b[0;36mpreserve_rng_state\u001b[0;34m()\u001b[0m\n\u001b[1;32m    633\u001b[0m \u001b[39mfinally\u001b[39;00m:\n\u001b[1;32m    634\u001b[0m     \u001b[39mwith\u001b[39;00m torch\u001b[39m.\u001b[39mutils\u001b[39m.\u001b[39m_python_dispatch\u001b[39m.\u001b[39m_disable_current_modes():\n\u001b[0;32m--> 635\u001b[0m         torch\u001b[39m.\u001b[39;49mrandom\u001b[39m.\u001b[39;49mset_rng_state(rng_state)\n\u001b[1;32m    636\u001b[0m         \u001b[39mif\u001b[39;00m torch\u001b[39m.\u001b[39mcuda\u001b[39m.\u001b[39mis_available():\n\u001b[1;32m    637\u001b[0m             torch\u001b[39m.\u001b[39mcuda\u001b[39m.\u001b[39mset_rng_state(cuda_rng_state)\n",
      "File \u001b[0;32m~/miniforge3/envs/elrpy/lib/python3.10/site-packages/torch/random.py:18\u001b[0m, in \u001b[0;36mset_rng_state\u001b[0;34m(new_state)\u001b[0m\n\u001b[1;32m      9\u001b[0m \u001b[39mdef\u001b[39;00m \u001b[39mset_rng_state\u001b[39m(new_state: torch\u001b[39m.\u001b[39mTensor) \u001b[39m-\u001b[39m\u001b[39m>\u001b[39m \u001b[39mNone\u001b[39;00m:\n\u001b[1;32m     10\u001b[0m \u001b[39m    \u001b[39m\u001b[39mr\u001b[39m\u001b[39m\"\"\"Sets the random number generator state.\u001b[39;00m\n\u001b[1;32m     11\u001b[0m \n\u001b[1;32m     12\u001b[0m \u001b[39m    .. note: This function only works for CPU. For CUDA, please use\u001b[39;00m\n\u001b[0;32m   (...)\u001b[0m\n\u001b[1;32m     16\u001b[0m \u001b[39m        new_state (torch.ByteTensor): The desired state\u001b[39;00m\n\u001b[1;32m     17\u001b[0m \u001b[39m    \"\"\"\u001b[39;00m\n\u001b[0;32m---> 18\u001b[0m     default_generator\u001b[39m.\u001b[39;49mset_state(new_state)\n",
      "\u001b[0;31mInternalTorchDynamoError\u001b[0m: Cannot access data pointer of Tensor that doesn't have storage\n\nfrom user code:\n \nSet TORCH_LOGS=\"+dynamo\" and TORCHDYNAMO_VERBOSE=1 for more information\n\n\nYou can suppress this exception and fall back to eager by setting:\n    import torch._dynamo\n    torch._dynamo.config.suppress_errors = True\n"
     ]
    }
   ],
   "source": [
    "hess = hess_fn(model_params)"
   ]
  },
  {
   "cell_type": "code",
   "execution_count": 51,
   "metadata": {},
   "outputs": [
    {
     "data": {
      "text/plain": [
       "tensor([1.0000e-06, 1.0000e-06, 1.0000e-06, 1.0000e-06, 1.0000e-06, 1.0000e-06,\n",
       "        1.0000e-06, 1.0000e-06, 1.0000e-06, 1.0000e-06, 1.0000e-06, 1.0000e-06,\n",
       "        1.0000e-06, 1.0000e-06, 1.0000e-06, 1.0000e-06, 1.0000e-06, 1.0000e-06,\n",
       "        1.0000e-06, 1.0000e-06, 1.0000e-06, 1.0000e-06, 1.0000e-06, 1.0000e-06,\n",
       "        1.0000e-06, 1.0000e-06, 1.0000e-06, 1.0000e-06, 1.0000e-06, 1.0000e-06,\n",
       "        1.0000e-06, 1.0000e-06, 1.0000e-06, 1.0000e-06, 1.0000e-06, 1.0000e-06,\n",
       "        1.0000e-06, 1.0000e-06, 1.0000e-06, 1.0000e-06, 1.0000e-06, 1.0000e-06,\n",
       "        1.0000e-06, 1.0000e-06, 1.0000e-06, 1.0000e-06, 1.0000e-06, 1.0000e-06,\n",
       "        1.0000e-06, 1.0000e-06, 1.0000e-06, 1.0000e-06, 1.0000e-06, 1.0000e-06,\n",
       "        1.0000e-06, 1.0000e-06, 1.0000e-06, 1.0000e-06, 1.0000e-06, 1.0000e-06,\n",
       "        1.0000e-06, 1.0000e-06, 1.0000e-06, 1.0000e-06, 1.0000e-06, 1.0000e-06,\n",
       "        1.0000e-06, 1.0000e-06, 1.0000e-06, 1.0000e-06, 1.0000e-06, 1.0000e-06,\n",
       "        1.0000e-06, 1.0000e-06, 1.0000e-06, 1.0000e-06, 1.0000e-06, 1.0000e-06,\n",
       "        1.0000e-06, 1.0000e-06, 1.0000e-06, 1.0000e-06, 1.0000e-06, 1.0000e-06,\n",
       "        1.0000e-06, 1.0000e-06, 1.0000e-06, 1.0000e-06, 1.0000e-06, 1.0000e-06,\n",
       "        1.0000e-06, 1.0000e-06, 1.0000e-06, 1.0000e-06, 1.0000e-06, 1.0000e-06,\n",
       "        1.0000e-06, 1.0000e-06, 1.0000e-06, 1.0000e-06, 1.0000e-06, 1.0000e-06,\n",
       "        1.0000e-06, 1.0000e-06, 1.0000e-06, 1.0000e-06, 1.0000e-06, 1.0000e-06,\n",
       "        1.0000e-06, 1.0000e-06, 1.0000e-06, 1.0000e-06, 1.0000e-06, 1.0000e-06,\n",
       "        1.0000e-06, 1.0000e-06, 1.0000e-06, 1.0000e-06, 1.0000e-06, 1.0000e-06,\n",
       "        1.0000e-06, 1.0000e-06, 1.0000e-06, 1.0000e-06, 1.0000e-06, 1.0000e-06,\n",
       "        1.0000e-06, 1.0000e-06, 1.0000e-06, 1.0000e-06, 1.0000e-06, 1.0000e-06,\n",
       "        1.0000e-06, 1.0000e-06, 1.0000e-06, 1.0000e-06, 1.0000e-06, 1.0000e-06,\n",
       "        1.0000e-06, 1.0000e-06, 1.0000e-06, 1.0000e-06, 1.0000e-06, 1.0000e-06,\n",
       "        1.0000e-06, 1.0000e-06, 1.0000e-06, 1.0000e-06, 1.0000e-06, 1.0000e-06,\n",
       "        1.0000e-06, 1.0000e-06, 1.0000e-06, 1.0000e-06, 1.0000e-06, 1.0000e-06,\n",
       "        1.0000e-06, 1.0000e-06, 1.0000e-06, 1.0000e-06, 1.0000e-06, 1.0000e-06,\n",
       "        1.0000e-06, 1.0000e-06, 1.0000e-06, 1.0000e-06, 1.0000e-06, 1.0000e-06,\n",
       "        1.0000e-06, 1.0000e-06, 1.0000e-06, 1.0000e-06, 1.0000e-06, 1.0000e-06,\n",
       "        1.0000e-06, 1.0000e-06, 1.0000e-06, 1.0000e-06, 1.0000e-06, 1.0000e-06,\n",
       "        1.0000e-06, 1.0000e-06, 1.0000e-06, 1.0000e-06, 1.0000e-06, 1.0000e-06,\n",
       "        1.0000e-06, 1.0000e-06, 1.0000e-06, 1.0000e-06, 1.0000e-06, 1.0000e-06,\n",
       "        1.0000e-06])"
      ]
     },
     "execution_count": 51,
     "metadata": {},
     "output_type": "execute_result"
    }
   ],
   "source": [
    "torch.clamp(model_params, min=1e-6)"
   ]
  },
  {
   "cell_type": "code",
   "execution_count": null,
   "metadata": {},
   "outputs": [],
   "source": []
  }
 ],
 "metadata": {
  "kernelspec": {
   "display_name": "elrpy",
   "language": "python",
   "name": "python3"
  },
  "language_info": {
   "codemirror_mode": {
    "name": "ipython",
    "version": 3
   },
   "file_extension": ".py",
   "mimetype": "text/x-python",
   "name": "python",
   "nbconvert_exporter": "python",
   "pygments_lexer": "ipython3",
   "version": "3.10.13"
  }
 },
 "nbformat": 4,
 "nbformat_minor": 2
}
